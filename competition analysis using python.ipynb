{
 "cells": [
  {
   "cell_type": "markdown",
   "id": "e98a4a9b",
   "metadata": {},
   "source": [
    "# Competition analysis using python"
   ]
  },
  {
   "cell_type": "code",
   "execution_count": 1,
   "id": "813f7341",
   "metadata": {},
   "outputs": [],
   "source": [
    "import pandas as pd\n",
    "import numpy as np\n",
    "import matplotlib.pyplot as plt\n",
    "import seaborn as sns\n",
    "%matplotlib inline\n",
    "## Display all the columns of the dataframes\n",
    "pd.pandas.set_option('display.max_columns',None)\n",
    "df =pd.read_csv('Top 500 Companies - India.csv')"
   ]
  },
  {
   "cell_type": "code",
   "execution_count": 2,
   "id": "533c2fcf",
   "metadata": {},
   "outputs": [
    {
     "data": {
      "text/html": [
       "<div>\n",
       "<style scoped>\n",
       "    .dataframe tbody tr th:only-of-type {\n",
       "        vertical-align: middle;\n",
       "    }\n",
       "\n",
       "    .dataframe tbody tr th {\n",
       "        vertical-align: top;\n",
       "    }\n",
       "\n",
       "    .dataframe thead th {\n",
       "        text-align: right;\n",
       "    }\n",
       "</style>\n",
       "<table border=\"1\" class=\"dataframe\">\n",
       "  <thead>\n",
       "    <tr style=\"text-align: right;\">\n",
       "      <th></th>\n",
       "      <th>S.No.</th>\n",
       "      <th>Name</th>\n",
       "      <th>Mar Cap - Crore</th>\n",
       "      <th>Sales Qtr - Crore</th>\n",
       "    </tr>\n",
       "  </thead>\n",
       "  <tbody>\n",
       "    <tr>\n",
       "      <th>0</th>\n",
       "      <td>1</td>\n",
       "      <td>Reliance Inds.</td>\n",
       "      <td>583436.72</td>\n",
       "      <td>99810.00</td>\n",
       "    </tr>\n",
       "    <tr>\n",
       "      <th>1</th>\n",
       "      <td>2</td>\n",
       "      <td>TCS</td>\n",
       "      <td>563709.84</td>\n",
       "      <td>30904.00</td>\n",
       "    </tr>\n",
       "    <tr>\n",
       "      <th>2</th>\n",
       "      <td>3</td>\n",
       "      <td>HDFC Bank</td>\n",
       "      <td>482953.59</td>\n",
       "      <td>20581.27</td>\n",
       "    </tr>\n",
       "    <tr>\n",
       "      <th>3</th>\n",
       "      <td>4</td>\n",
       "      <td>ITC</td>\n",
       "      <td>320985.27</td>\n",
       "      <td>9772.02</td>\n",
       "    </tr>\n",
       "    <tr>\n",
       "      <th>4</th>\n",
       "      <td>5</td>\n",
       "      <td>H D F C</td>\n",
       "      <td>289497.37</td>\n",
       "      <td>16840.51</td>\n",
       "    </tr>\n",
       "    <tr>\n",
       "      <th>...</th>\n",
       "      <td>...</td>\n",
       "      <td>...</td>\n",
       "      <td>...</td>\n",
       "      <td>...</td>\n",
       "    </tr>\n",
       "    <tr>\n",
       "      <th>483</th>\n",
       "      <td>496</td>\n",
       "      <td>Lak. Vilas Bank</td>\n",
       "      <td>3029.57</td>\n",
       "      <td>790.17</td>\n",
       "    </tr>\n",
       "    <tr>\n",
       "      <th>484</th>\n",
       "      <td>497</td>\n",
       "      <td>NOCIL</td>\n",
       "      <td>3026.26</td>\n",
       "      <td>249.27</td>\n",
       "    </tr>\n",
       "    <tr>\n",
       "      <th>485</th>\n",
       "      <td>498</td>\n",
       "      <td>Orient Cement</td>\n",
       "      <td>3024.32</td>\n",
       "      <td>511.53</td>\n",
       "    </tr>\n",
       "    <tr>\n",
       "      <th>486</th>\n",
       "      <td>499</td>\n",
       "      <td>Natl.Fertilizer</td>\n",
       "      <td>3017.07</td>\n",
       "      <td>2840.75</td>\n",
       "    </tr>\n",
       "    <tr>\n",
       "      <th>487</th>\n",
       "      <td>500</td>\n",
       "      <td>L T Foods</td>\n",
       "      <td>NaN</td>\n",
       "      <td>NaN</td>\n",
       "    </tr>\n",
       "  </tbody>\n",
       "</table>\n",
       "<p>488 rows × 4 columns</p>\n",
       "</div>"
      ],
      "text/plain": [
       "     S.No.             Name  Mar Cap - Crore  Sales Qtr - Crore\n",
       "0        1   Reliance Inds.        583436.72           99810.00\n",
       "1        2              TCS        563709.84           30904.00\n",
       "2        3        HDFC Bank        482953.59           20581.27\n",
       "3        4              ITC        320985.27            9772.02\n",
       "4        5          H D F C        289497.37           16840.51\n",
       "..     ...              ...              ...                ...\n",
       "483    496  Lak. Vilas Bank          3029.57             790.17\n",
       "484    497            NOCIL          3026.26             249.27\n",
       "485    498    Orient Cement          3024.32             511.53\n",
       "486    499  Natl.Fertilizer          3017.07            2840.75\n",
       "487    500        L T Foods              NaN                NaN\n",
       "\n",
       "[488 rows x 4 columns]"
      ]
     },
     "execution_count": 2,
     "metadata": {},
     "output_type": "execute_result"
    }
   ],
   "source": [
    "df"
   ]
  },
  {
   "cell_type": "code",
   "execution_count": 3,
   "id": "10659dda",
   "metadata": {},
   "outputs": [
    {
     "data": {
      "text/html": [
       "<div>\n",
       "<style scoped>\n",
       "    .dataframe tbody tr th:only-of-type {\n",
       "        vertical-align: middle;\n",
       "    }\n",
       "\n",
       "    .dataframe tbody tr th {\n",
       "        vertical-align: top;\n",
       "    }\n",
       "\n",
       "    .dataframe thead th {\n",
       "        text-align: right;\n",
       "    }\n",
       "</style>\n",
       "<table border=\"1\" class=\"dataframe\">\n",
       "  <thead>\n",
       "    <tr style=\"text-align: right;\">\n",
       "      <th></th>\n",
       "      <th>S.No.</th>\n",
       "      <th>Name</th>\n",
       "      <th>Mar Cap - Crore</th>\n",
       "      <th>Sales Qtr - Crore</th>\n",
       "    </tr>\n",
       "  </thead>\n",
       "  <tbody>\n",
       "    <tr>\n",
       "      <th>0</th>\n",
       "      <td>1</td>\n",
       "      <td>Reliance Inds.</td>\n",
       "      <td>583436.72</td>\n",
       "      <td>99810.00</td>\n",
       "    </tr>\n",
       "    <tr>\n",
       "      <th>1</th>\n",
       "      <td>2</td>\n",
       "      <td>TCS</td>\n",
       "      <td>563709.84</td>\n",
       "      <td>30904.00</td>\n",
       "    </tr>\n",
       "    <tr>\n",
       "      <th>2</th>\n",
       "      <td>3</td>\n",
       "      <td>HDFC Bank</td>\n",
       "      <td>482953.59</td>\n",
       "      <td>20581.27</td>\n",
       "    </tr>\n",
       "    <tr>\n",
       "      <th>3</th>\n",
       "      <td>4</td>\n",
       "      <td>ITC</td>\n",
       "      <td>320985.27</td>\n",
       "      <td>9772.02</td>\n",
       "    </tr>\n",
       "    <tr>\n",
       "      <th>4</th>\n",
       "      <td>5</td>\n",
       "      <td>H D F C</td>\n",
       "      <td>289497.37</td>\n",
       "      <td>16840.51</td>\n",
       "    </tr>\n",
       "  </tbody>\n",
       "</table>\n",
       "</div>"
      ],
      "text/plain": [
       "   S.No.            Name  Mar Cap - Crore  Sales Qtr - Crore\n",
       "0      1  Reliance Inds.        583436.72           99810.00\n",
       "1      2             TCS        563709.84           30904.00\n",
       "2      3       HDFC Bank        482953.59           20581.27\n",
       "3      4             ITC        320985.27            9772.02\n",
       "4      5         H D F C        289497.37           16840.51"
      ]
     },
     "execution_count": 3,
     "metadata": {},
     "output_type": "execute_result"
    }
   ],
   "source": [
    "df.head()"
   ]
  },
  {
   "cell_type": "code",
   "execution_count": 4,
   "id": "fafcf960",
   "metadata": {},
   "outputs": [
    {
     "name": "stdout",
     "output_type": "stream",
     "text": [
      "<class 'pandas.core.frame.DataFrame'>\n",
      "RangeIndex: 488 entries, 0 to 487\n",
      "Data columns (total 4 columns):\n",
      " #   Column             Non-Null Count  Dtype  \n",
      "---  ------             --------------  -----  \n",
      " 0   S.No.              488 non-null    int64  \n",
      " 1   Name               488 non-null    object \n",
      " 2   Mar Cap - Crore    479 non-null    float64\n",
      " 3   Sales Qtr - Crore  459 non-null    float64\n",
      "dtypes: float64(2), int64(1), object(1)\n",
      "memory usage: 15.4+ KB\n"
     ]
    }
   ],
   "source": [
    "df.info()"
   ]
  },
  {
   "cell_type": "code",
   "execution_count": 5,
   "id": "9670edf4",
   "metadata": {},
   "outputs": [
    {
     "data": {
      "text/html": [
       "<div>\n",
       "<style scoped>\n",
       "    .dataframe tbody tr th:only-of-type {\n",
       "        vertical-align: middle;\n",
       "    }\n",
       "\n",
       "    .dataframe tbody tr th {\n",
       "        vertical-align: top;\n",
       "    }\n",
       "\n",
       "    .dataframe thead th {\n",
       "        text-align: right;\n",
       "    }\n",
       "</style>\n",
       "<table border=\"1\" class=\"dataframe\">\n",
       "  <thead>\n",
       "    <tr style=\"text-align: right;\">\n",
       "      <th></th>\n",
       "      <th>S.No.</th>\n",
       "      <th>Mar Cap - Crore</th>\n",
       "      <th>Sales Qtr - Crore</th>\n",
       "    </tr>\n",
       "  </thead>\n",
       "  <tbody>\n",
       "    <tr>\n",
       "      <th>count</th>\n",
       "      <td>488.000000</td>\n",
       "      <td>479.000000</td>\n",
       "      <td>459.000000</td>\n",
       "    </tr>\n",
       "    <tr>\n",
       "      <th>mean</th>\n",
       "      <td>251.508197</td>\n",
       "      <td>28043.857119</td>\n",
       "      <td>3807.789412</td>\n",
       "    </tr>\n",
       "    <tr>\n",
       "      <th>std</th>\n",
       "      <td>145.884078</td>\n",
       "      <td>59464.615831</td>\n",
       "      <td>9989.449987</td>\n",
       "    </tr>\n",
       "    <tr>\n",
       "      <th>min</th>\n",
       "      <td>1.000000</td>\n",
       "      <td>3017.070000</td>\n",
       "      <td>0.000000</td>\n",
       "    </tr>\n",
       "    <tr>\n",
       "      <th>25%</th>\n",
       "      <td>122.750000</td>\n",
       "      <td>4843.575000</td>\n",
       "      <td>534.910000</td>\n",
       "    </tr>\n",
       "    <tr>\n",
       "      <th>50%</th>\n",
       "      <td>252.500000</td>\n",
       "      <td>9885.050000</td>\n",
       "      <td>1137.170000</td>\n",
       "    </tr>\n",
       "    <tr>\n",
       "      <th>75%</th>\n",
       "      <td>378.250000</td>\n",
       "      <td>23549.900000</td>\n",
       "      <td>2730.195000</td>\n",
       "    </tr>\n",
       "    <tr>\n",
       "      <th>max</th>\n",
       "      <td>500.000000</td>\n",
       "      <td>583436.720000</td>\n",
       "      <td>110666.930000</td>\n",
       "    </tr>\n",
       "  </tbody>\n",
       "</table>\n",
       "</div>"
      ],
      "text/plain": [
       "            S.No.  Mar Cap - Crore  Sales Qtr - Crore\n",
       "count  488.000000       479.000000         459.000000\n",
       "mean   251.508197     28043.857119        3807.789412\n",
       "std    145.884078     59464.615831        9989.449987\n",
       "min      1.000000      3017.070000           0.000000\n",
       "25%    122.750000      4843.575000         534.910000\n",
       "50%    252.500000      9885.050000        1137.170000\n",
       "75%    378.250000     23549.900000        2730.195000\n",
       "max    500.000000    583436.720000      110666.930000"
      ]
     },
     "execution_count": 5,
     "metadata": {},
     "output_type": "execute_result"
    }
   ],
   "source": [
    "df.describe()"
   ]
  },
  {
   "cell_type": "code",
   "execution_count": 6,
   "id": "59679ecc",
   "metadata": {},
   "outputs": [
    {
     "data": {
      "text/plain": [
       "(488, 4)"
      ]
     },
     "execution_count": 6,
     "metadata": {},
     "output_type": "execute_result"
    }
   ],
   "source": [
    "df.shape"
   ]
  },
  {
   "cell_type": "code",
   "execution_count": 7,
   "id": "b22c3cd3",
   "metadata": {},
   "outputs": [
    {
     "data": {
      "text/plain": [
       "S.No.                 0\n",
       "Name                  0\n",
       "Mar Cap - Crore       9\n",
       "Sales Qtr - Crore    29\n",
       "dtype: int64"
      ]
     },
     "execution_count": 7,
     "metadata": {},
     "output_type": "execute_result"
    }
   ],
   "source": [
    "df.isnull().sum()"
   ]
  },
  {
   "cell_type": "code",
   "execution_count": 8,
   "id": "64e0c873",
   "metadata": {},
   "outputs": [
    {
     "data": {
      "text/plain": [
       "['Mar Cap - Crore', 'Sales Qtr - Crore']"
      ]
     },
     "execution_count": 8,
     "metadata": {},
     "output_type": "execute_result"
    }
   ],
   "source": [
    "[features for features in df.columns if df[features].isnull().sum()>0]"
   ]
  },
  {
   "cell_type": "code",
   "execution_count": 9,
   "id": "ec3cd3be",
   "metadata": {},
   "outputs": [
    {
     "data": {
      "text/plain": [
       "<AxesSubplot:>"
      ]
     },
     "execution_count": 9,
     "metadata": {},
     "output_type": "execute_result"
    },
    {
     "data": {
      "image/png": "[encoded data removed]",
      "text/plain": [
       "<Figure size 432x288 with 1 Axes>"
      ]
     },
     "metadata": {
      "needs_background": "light"
     },
     "output_type": "display_data"
    }
   ],
   "source": [
    "sns.heatmap(df.isnull(),yticklabels=False,cbar=False,cmap='viridis')"
   ]
  },
  {
   "cell_type": "code",
   "execution_count": 10,
   "id": "eff55f06",
   "metadata": {},
   "outputs": [],
   "source": [
    "df.dropna(inplace =True)"
   ]
  },
  {
   "cell_type": "code",
   "execution_count": 11,
   "id": "95341e63",
   "metadata": {},
   "outputs": [
    {
     "data": {
      "text/plain": [
       "S.No.                0\n",
       "Name                 0\n",
       "Mar Cap - Crore      0\n",
       "Sales Qtr - Crore    0\n",
       "dtype: int64"
      ]
     },
     "execution_count": 11,
     "metadata": {},
     "output_type": "execute_result"
    }
   ],
   "source": [
    "df.isnull().sum()"
   ]
  },
  {
   "cell_type": "code",
   "execution_count": 12,
   "id": "5d5d0472",
   "metadata": {},
   "outputs": [
    {
     "data": {
      "text/plain": [
       "(459, 4)"
      ]
     },
     "execution_count": 12,
     "metadata": {},
     "output_type": "execute_result"
    }
   ],
   "source": [
    "df.shape"
   ]
  },
  {
   "cell_type": "code",
   "execution_count": 13,
   "id": "6b479542",
   "metadata": {},
   "outputs": [
    {
     "name": "stdout",
     "output_type": "stream",
     "text": [
      "     S.No.     Company Name  Mar Cap - Crore  Sales Qtr - Crore\n",
      "0        1   Reliance Inds.        583436.72           99810.00\n",
      "1        2              TCS        563709.84           30904.00\n",
      "2        3        HDFC Bank        482953.59           20581.27\n",
      "3        4              ITC        320985.27            9772.02\n",
      "4        5          H D F C        289497.37           16840.51\n",
      "..     ...              ...              ...                ...\n",
      "482    495      Prime Focus          3031.50             609.61\n",
      "483    496  Lak. Vilas Bank          3029.57             790.17\n",
      "484    497            NOCIL          3026.26             249.27\n",
      "485    498    Orient Cement          3024.32             511.53\n",
      "486    499  Natl.Fertilizer          3017.07            2840.75\n",
      "\n",
      "[459 rows x 4 columns]\n"
     ]
    }
   ],
   "source": [
    "df.rename(columns = {'Name':'Company Name'},\n",
    "                 inplace = True)\n",
    "print(df)"
   ]
  },
  {
   "cell_type": "code",
   "execution_count": 14,
   "id": "03c7728c",
   "metadata": {},
   "outputs": [
    {
     "name": "stdout",
     "output_type": "stream",
     "text": [
      "     S.No.     Company Name  Capitalisation  Sales Qtr - Crore\n",
      "0        1   Reliance Inds.       583436.72           99810.00\n",
      "1        2              TCS       563709.84           30904.00\n",
      "2        3        HDFC Bank       482953.59           20581.27\n",
      "3        4              ITC       320985.27            9772.02\n",
      "4        5          H D F C       289497.37           16840.51\n",
      "..     ...              ...             ...                ...\n",
      "482    495      Prime Focus         3031.50             609.61\n",
      "483    496  Lak. Vilas Bank         3029.57             790.17\n",
      "484    497            NOCIL         3026.26             249.27\n",
      "485    498    Orient Cement         3024.32             511.53\n",
      "486    499  Natl.Fertilizer         3017.07            2840.75\n",
      "\n",
      "[459 rows x 4 columns]\n"
     ]
    }
   ],
   "source": [
    "df.rename(columns = {'Mar Cap - Crore':'Capitalisation'},\n",
    "                 inplace = True)\n",
    "print(df)"
   ]
  },
  {
   "cell_type": "code",
   "execution_count": 15,
   "id": "27af0b33",
   "metadata": {},
   "outputs": [
    {
     "name": "stdout",
     "output_type": "stream",
     "text": [
      "     S.No.     Company Name  Capitalisation  Monetary value\n",
      "0        1   Reliance Inds.       583436.72        99810.00\n",
      "1        2              TCS       563709.84        30904.00\n",
      "2        3        HDFC Bank       482953.59        20581.27\n",
      "3        4              ITC       320985.27         9772.02\n",
      "4        5          H D F C       289497.37        16840.51\n",
      "..     ...              ...             ...             ...\n",
      "482    495      Prime Focus         3031.50          609.61\n",
      "483    496  Lak. Vilas Bank         3029.57          790.17\n",
      "484    497            NOCIL         3026.26          249.27\n",
      "485    498    Orient Cement         3024.32          511.53\n",
      "486    499  Natl.Fertilizer         3017.07         2840.75\n",
      "\n",
      "[459 rows x 4 columns]\n"
     ]
    }
   ],
   "source": [
    "df.rename(columns = {'Sales Qtr - Crore':'Monetary value'},\n",
    "                 inplace = True)\n",
    "print(df)"
   ]
  },
  {
   "cell_type": "code",
   "execution_count": 16,
   "id": "2ad7c6de",
   "metadata": {},
   "outputs": [
    {
     "data": {
      "text/html": [
       "<div>\n",
       "<style scoped>\n",
       "    .dataframe tbody tr th:only-of-type {\n",
       "        vertical-align: middle;\n",
       "    }\n",
       "\n",
       "    .dataframe tbody tr th {\n",
       "        vertical-align: top;\n",
       "    }\n",
       "\n",
       "    .dataframe thead th {\n",
       "        text-align: right;\n",
       "    }\n",
       "</style>\n",
       "<table border=\"1\" class=\"dataframe\">\n",
       "  <thead>\n",
       "    <tr style=\"text-align: right;\">\n",
       "      <th></th>\n",
       "      <th>S.No.</th>\n",
       "      <th>Company Name</th>\n",
       "      <th>Capitalisation</th>\n",
       "      <th>Monetary value</th>\n",
       "    </tr>\n",
       "  </thead>\n",
       "  <tbody>\n",
       "    <tr>\n",
       "      <th>0</th>\n",
       "      <td>1</td>\n",
       "      <td>Reliance Inds.</td>\n",
       "      <td>583436.72</td>\n",
       "      <td>99810.00</td>\n",
       "    </tr>\n",
       "    <tr>\n",
       "      <th>1</th>\n",
       "      <td>2</td>\n",
       "      <td>TCS</td>\n",
       "      <td>563709.84</td>\n",
       "      <td>30904.00</td>\n",
       "    </tr>\n",
       "    <tr>\n",
       "      <th>2</th>\n",
       "      <td>3</td>\n",
       "      <td>HDFC Bank</td>\n",
       "      <td>482953.59</td>\n",
       "      <td>20581.27</td>\n",
       "    </tr>\n",
       "    <tr>\n",
       "      <th>3</th>\n",
       "      <td>4</td>\n",
       "      <td>ITC</td>\n",
       "      <td>320985.27</td>\n",
       "      <td>9772.02</td>\n",
       "    </tr>\n",
       "    <tr>\n",
       "      <th>4</th>\n",
       "      <td>5</td>\n",
       "      <td>H D F C</td>\n",
       "      <td>289497.37</td>\n",
       "      <td>16840.51</td>\n",
       "    </tr>\n",
       "    <tr>\n",
       "      <th>...</th>\n",
       "      <td>...</td>\n",
       "      <td>...</td>\n",
       "      <td>...</td>\n",
       "      <td>...</td>\n",
       "    </tr>\n",
       "    <tr>\n",
       "      <th>482</th>\n",
       "      <td>495</td>\n",
       "      <td>Prime Focus</td>\n",
       "      <td>3031.50</td>\n",
       "      <td>609.61</td>\n",
       "    </tr>\n",
       "    <tr>\n",
       "      <th>483</th>\n",
       "      <td>496</td>\n",
       "      <td>Lak. Vilas Bank</td>\n",
       "      <td>3029.57</td>\n",
       "      <td>790.17</td>\n",
       "    </tr>\n",
       "    <tr>\n",
       "      <th>484</th>\n",
       "      <td>497</td>\n",
       "      <td>NOCIL</td>\n",
       "      <td>3026.26</td>\n",
       "      <td>249.27</td>\n",
       "    </tr>\n",
       "    <tr>\n",
       "      <th>485</th>\n",
       "      <td>498</td>\n",
       "      <td>Orient Cement</td>\n",
       "      <td>3024.32</td>\n",
       "      <td>511.53</td>\n",
       "    </tr>\n",
       "    <tr>\n",
       "      <th>486</th>\n",
       "      <td>499</td>\n",
       "      <td>Natl.Fertilizer</td>\n",
       "      <td>3017.07</td>\n",
       "      <td>2840.75</td>\n",
       "    </tr>\n",
       "  </tbody>\n",
       "</table>\n",
       "<p>459 rows × 4 columns</p>\n",
       "</div>"
      ],
      "text/plain": [
       "     S.No.     Company Name  Capitalisation  Monetary value\n",
       "0        1   Reliance Inds.       583436.72        99810.00\n",
       "1        2              TCS       563709.84        30904.00\n",
       "2        3        HDFC Bank       482953.59        20581.27\n",
       "3        4              ITC       320985.27         9772.02\n",
       "4        5          H D F C       289497.37        16840.51\n",
       "..     ...              ...             ...             ...\n",
       "482    495      Prime Focus         3031.50          609.61\n",
       "483    496  Lak. Vilas Bank         3029.57          790.17\n",
       "484    497            NOCIL         3026.26          249.27\n",
       "485    498    Orient Cement         3024.32          511.53\n",
       "486    499  Natl.Fertilizer         3017.07         2840.75\n",
       "\n",
       "[459 rows x 4 columns]"
      ]
     },
     "execution_count": 16,
     "metadata": {},
     "output_type": "execute_result"
    }
   ],
   "source": [
    "df"
   ]
  },
  {
   "cell_type": "code",
   "execution_count": 17,
   "id": "77ee3b2c",
   "metadata": {},
   "outputs": [
    {
     "data": {
      "text/plain": [
       "<matplotlib.collections.PathCollection at 0x1f522b104c0>"
      ]
     },
     "execution_count": 17,
     "metadata": {},
     "output_type": "execute_result"
    },
    {
     "data": {
      "image/png": "[encoded data removed]",
      "text/plain": [
       "<Figure size 432x288 with 1 Axes>"
      ]
     },
     "metadata": {
      "needs_background": "light"
     },
     "output_type": "display_data"
    }
   ],
   "source": [
    "plt.scatter(df['Company Name'],df['Capitalisation'])"
   ]
  },
  {
   "cell_type": "code",
   "execution_count": 18,
   "id": "329d6767",
   "metadata": {},
   "outputs": [
    {
     "data": {
      "text/plain": [
       "<matplotlib.collections.PathCollection at 0x1f522f5a040>"
      ]
     },
     "execution_count": 18,
     "metadata": {},
     "output_type": "execute_result"
    },
    {
     "data": {
      "image/png": "[encoded data removed]",
      "text/plain": [
       "<Figure size 432x288 with 1 Axes>"
      ]
     },
     "metadata": {
      "needs_background": "light"
     },
     "output_type": "display_data"
    }
   ],
   "source": [
    "plt.scatter(df['Company Name'],df['Monetary value'])"
   ]
  },
  {
   "cell_type": "code",
   "execution_count": 19,
   "id": "7dcd4f51",
   "metadata": {},
   "outputs": [],
   "source": [
    "x=df[['Capitalisation']]\n",
    "y=df[['Monetary value']]"
   ]
  },
  {
   "cell_type": "code",
   "execution_count": 20,
   "id": "39d384a3",
   "metadata": {},
   "outputs": [
    {
     "data": {
      "text/html": [
       "<div>\n",
       "<style scoped>\n",
       "    .dataframe tbody tr th:only-of-type {\n",
       "        vertical-align: middle;\n",
       "    }\n",
       "\n",
       "    .dataframe tbody tr th {\n",
       "        vertical-align: top;\n",
       "    }\n",
       "\n",
       "    .dataframe thead th {\n",
       "        text-align: right;\n",
       "    }\n",
       "</style>\n",
       "<table border=\"1\" class=\"dataframe\">\n",
       "  <thead>\n",
       "    <tr style=\"text-align: right;\">\n",
       "      <th></th>\n",
       "      <th>Capitalisation</th>\n",
       "    </tr>\n",
       "  </thead>\n",
       "  <tbody>\n",
       "    <tr>\n",
       "      <th>0</th>\n",
       "      <td>583436.72</td>\n",
       "    </tr>\n",
       "    <tr>\n",
       "      <th>1</th>\n",
       "      <td>563709.84</td>\n",
       "    </tr>\n",
       "    <tr>\n",
       "      <th>2</th>\n",
       "      <td>482953.59</td>\n",
       "    </tr>\n",
       "    <tr>\n",
       "      <th>3</th>\n",
       "      <td>320985.27</td>\n",
       "    </tr>\n",
       "    <tr>\n",
       "      <th>4</th>\n",
       "      <td>289497.37</td>\n",
       "    </tr>\n",
       "    <tr>\n",
       "      <th>...</th>\n",
       "      <td>...</td>\n",
       "    </tr>\n",
       "    <tr>\n",
       "      <th>482</th>\n",
       "      <td>3031.50</td>\n",
       "    </tr>\n",
       "    <tr>\n",
       "      <th>483</th>\n",
       "      <td>3029.57</td>\n",
       "    </tr>\n",
       "    <tr>\n",
       "      <th>484</th>\n",
       "      <td>3026.26</td>\n",
       "    </tr>\n",
       "    <tr>\n",
       "      <th>485</th>\n",
       "      <td>3024.32</td>\n",
       "    </tr>\n",
       "    <tr>\n",
       "      <th>486</th>\n",
       "      <td>3017.07</td>\n",
       "    </tr>\n",
       "  </tbody>\n",
       "</table>\n",
       "<p>459 rows × 1 columns</p>\n",
       "</div>"
      ],
      "text/plain": [
       "     Capitalisation\n",
       "0         583436.72\n",
       "1         563709.84\n",
       "2         482953.59\n",
       "3         320985.27\n",
       "4         289497.37\n",
       "..              ...\n",
       "482         3031.50\n",
       "483         3029.57\n",
       "484         3026.26\n",
       "485         3024.32\n",
       "486         3017.07\n",
       "\n",
       "[459 rows x 1 columns]"
      ]
     },
     "execution_count": 20,
     "metadata": {},
     "output_type": "execute_result"
    }
   ],
   "source": [
    "x"
   ]
  },
  {
   "cell_type": "code",
   "execution_count": 21,
   "id": "031046ab",
   "metadata": {},
   "outputs": [
    {
     "data": {
      "text/html": [
       "<div>\n",
       "<style scoped>\n",
       "    .dataframe tbody tr th:only-of-type {\n",
       "        vertical-align: middle;\n",
       "    }\n",
       "\n",
       "    .dataframe tbody tr th {\n",
       "        vertical-align: top;\n",
       "    }\n",
       "\n",
       "    .dataframe thead th {\n",
       "        text-align: right;\n",
       "    }\n",
       "</style>\n",
       "<table border=\"1\" class=\"dataframe\">\n",
       "  <thead>\n",
       "    <tr style=\"text-align: right;\">\n",
       "      <th></th>\n",
       "      <th>Monetary value</th>\n",
       "    </tr>\n",
       "  </thead>\n",
       "  <tbody>\n",
       "    <tr>\n",
       "      <th>0</th>\n",
       "      <td>99810.00</td>\n",
       "    </tr>\n",
       "    <tr>\n",
       "      <th>1</th>\n",
       "      <td>30904.00</td>\n",
       "    </tr>\n",
       "    <tr>\n",
       "      <th>2</th>\n",
       "      <td>20581.27</td>\n",
       "    </tr>\n",
       "    <tr>\n",
       "      <th>3</th>\n",
       "      <td>9772.02</td>\n",
       "    </tr>\n",
       "    <tr>\n",
       "      <th>4</th>\n",
       "      <td>16840.51</td>\n",
       "    </tr>\n",
       "    <tr>\n",
       "      <th>...</th>\n",
       "      <td>...</td>\n",
       "    </tr>\n",
       "    <tr>\n",
       "      <th>482</th>\n",
       "      <td>609.61</td>\n",
       "    </tr>\n",
       "    <tr>\n",
       "      <th>483</th>\n",
       "      <td>790.17</td>\n",
       "    </tr>\n",
       "    <tr>\n",
       "      <th>484</th>\n",
       "      <td>249.27</td>\n",
       "    </tr>\n",
       "    <tr>\n",
       "      <th>485</th>\n",
       "      <td>511.53</td>\n",
       "    </tr>\n",
       "    <tr>\n",
       "      <th>486</th>\n",
       "      <td>2840.75</td>\n",
       "    </tr>\n",
       "  </tbody>\n",
       "</table>\n",
       "<p>459 rows × 1 columns</p>\n",
       "</div>"
      ],
      "text/plain": [
       "     Monetary value\n",
       "0          99810.00\n",
       "1          30904.00\n",
       "2          20581.27\n",
       "3           9772.02\n",
       "4          16840.51\n",
       "..              ...\n",
       "482          609.61\n",
       "483          790.17\n",
       "484          249.27\n",
       "485          511.53\n",
       "486         2840.75\n",
       "\n",
       "[459 rows x 1 columns]"
      ]
     },
     "execution_count": 21,
     "metadata": {},
     "output_type": "execute_result"
    }
   ],
   "source": [
    "y"
   ]
  },
  {
   "cell_type": "code",
   "execution_count": 22,
   "id": "e639f096",
   "metadata": {},
   "outputs": [],
   "source": [
    "from sklearn.model_selection import train_test_split"
   ]
  },
  {
   "cell_type": "code",
   "execution_count": 23,
   "id": "8846156a",
   "metadata": {},
   "outputs": [],
   "source": [
    "x_train,x_test,y_train,y_test = train_test_split(x,y,test_size=0.3,random_state=10)"
   ]
  },
  {
   "cell_type": "code",
   "execution_count": 26,
   "id": "239261b0",
   "metadata": {},
   "outputs": [
    {
     "data": {
      "text/plain": [
       "321"
      ]
     },
     "execution_count": 26,
     "metadata": {},
     "output_type": "execute_result"
    }
   ],
   "source": [
    "len(x_train)"
   ]
  },
  {
   "cell_type": "code",
   "execution_count": 27,
   "id": "a465ba2c",
   "metadata": {},
   "outputs": [
    {
     "data": {
      "text/plain": [
       "138"
      ]
     },
     "execution_count": 27,
     "metadata": {},
     "output_type": "execute_result"
    }
   ],
   "source": [
    "len(x_test)"
   ]
  },
  {
   "cell_type": "code",
   "execution_count": 28,
   "id": "fa4dd7e0",
   "metadata": {},
   "outputs": [],
   "source": [
    "from sklearn.linear_model import LinearRegression\n",
    "clf = LinearRegression()"
   ]
  },
  {
   "cell_type": "code",
   "execution_count": 29,
   "id": "f338454e",
   "metadata": {},
   "outputs": [
    {
     "data": {
      "text/plain": [
       "LinearRegression()"
      ]
     },
     "execution_count": 29,
     "metadata": {},
     "output_type": "execute_result"
    }
   ],
   "source": [
    "clf.fit(x_train,y_train)"
   ]
  },
  {
   "cell_type": "code",
   "execution_count": 30,
   "id": "7b26e672",
   "metadata": {},
   "outputs": [
    {
     "data": {
      "text/plain": [
       "array([[ 2180.67852257],\n",
       "       [ 1454.25762274],\n",
       "       [ 4011.19994908],\n",
       "       [ 2695.16406682],\n",
       "       [ 1552.6322375 ],\n",
       "       [ 1293.11667174],\n",
       "       [ 1151.15249069],\n",
       "       [ 1081.42756491],\n",
       "       [  959.26343418],\n",
       "       [ 2133.59787928],\n",
       "       [13997.87639542],\n",
       "       [ 1964.83617699],\n",
       "       [ 1045.39630406],\n",
       "       [ 1201.34364471],\n",
       "       [ 1076.19625141],\n",
       "       [ 3375.5918239 ],\n",
       "       [ 1608.50125183],\n",
       "       [ 1854.85370173],\n",
       "       [  999.88976771],\n",
       "       [ 2327.06339918],\n",
       "       [ 3056.8351674 ],\n",
       "       [ 3522.95698267],\n",
       "       [ 1208.55083946],\n",
       "       [ 1365.36063991],\n",
       "       [ 2492.71459074],\n",
       "       [ 4496.02724479],\n",
       "       [ 1830.31012255],\n",
       "       [ 1353.91537429],\n",
       "       [ 1240.48423808],\n",
       "       [ 3773.60287996],\n",
       "       [29860.00598732],\n",
       "       [  978.48026373],\n",
       "       [ 1200.90888014],\n",
       "       [ 1177.96297238],\n",
       "       [31647.77909929],\n",
       "       [ 1950.05653812],\n",
       "       [ 1700.15292181],\n",
       "       [ 1327.33700267],\n",
       "       [ 1523.18135635],\n",
       "       [ 9069.00704182],\n",
       "       [ 2061.2643661 ],\n",
       "       [ 1131.71179862],\n",
       "       [ 1445.33022129],\n",
       "       [67019.94511938],\n",
       "       [ 3168.01707445],\n",
       "       [24614.78944481],\n",
       "       [ 1380.13085299],\n",
       "       [ 2430.01423503],\n",
       "       [ 1596.70605375],\n",
       "       [ 4831.37564831],\n",
       "       [ 3649.11057907],\n",
       "       [ 3047.21850505],\n",
       "       [ 7577.90124725],\n",
       "       [ 1939.9650516 ],\n",
       "       [10003.96176525],\n",
       "       [ 1621.06818647],\n",
       "       [ 2616.78508752],\n",
       "       [ 6771.66393512],\n",
       "       [ 6107.56871583],\n",
       "       [ 1872.25135379],\n",
       "       [  995.37363603],\n",
       "       [ 1063.01781864],\n",
       "       [ 8551.19890656],\n",
       "       [ 2271.24387024],\n",
       "       [ 1373.1993626 ],\n",
       "       [ 1238.90070534],\n",
       "       [ 1922.29405162],\n",
       "       [  973.25955424],\n",
       "       [12622.08100397],\n",
       "       [ 2093.37449828],\n",
       "       [ 4307.89200919],\n",
       "       [ 2078.16245129],\n",
       "       [ 2153.6512477 ],\n",
       "       [  958.6448667 ],\n",
       "       [ 1293.34524715],\n",
       "       [ 2495.15822682],\n",
       "       [ 5202.98977921],\n",
       "       [ 2714.95586957],\n",
       "       [ 5333.98234059],\n",
       "       [ 3908.31862842],\n",
       "       [ 3877.50218594],\n",
       "       [ 2305.6586081 ],\n",
       "       [ 1886.66456507],\n",
       "       [ 4811.9926892 ],\n",
       "       [ 1051.09772884],\n",
       "       [ 1055.59736538],\n",
       "       [ 1052.94636192],\n",
       "       [ 1045.54358203],\n",
       "       [ 3050.60472014],\n",
       "       [ 2564.71231015],\n",
       "       [ 4767.28381034],\n",
       "       [ 7229.14465733],\n",
       "       [ 3499.82491556],\n",
       "       [ 9307.73638397],\n",
       "       [ 6005.11626863],\n",
       "       [ 1268.28324951],\n",
       "       [ 1250.68176473],\n",
       "       [23304.08973797],\n",
       "       [ 1040.19444615],\n",
       "       [ 1202.01287581],\n",
       "       [ 2573.33690808],\n",
       "       [ 1000.26562109],\n",
       "       [ 1204.29627346],\n",
       "       [ 2290.72933482],\n",
       "       [ 1698.83095475],\n",
       "       [ 1047.15067924],\n",
       "       [ 1159.24806615],\n",
       "       [ 1963.67916126],\n",
       "       [ 1491.96313956],\n",
       "       [ 3933.17679335],\n",
       "       [ 1421.53010131],\n",
       "       [ 1846.29626254],\n",
       "       [ 4649.15745244],\n",
       "       [ 2671.19663906],\n",
       "       [ 3890.22346789],\n",
       "       [ 1096.4958686 ],\n",
       "       [ 1042.26811997],\n",
       "       [ 2409.69223159],\n",
       "       [ 1018.43383149],\n",
       "       [ 2741.94897595],\n",
       "       [ 4916.3786016 ],\n",
       "       [ 4057.76453036],\n",
       "       [ 1094.72617651],\n",
       "       [ 1333.88439212],\n",
       "       [ 1919.85512844],\n",
       "       [ 1106.48249321],\n",
       "       [ 1171.44621676],\n",
       "       [ 2291.27367419],\n",
       "       [ 3581.91883438],\n",
       "       [ 1370.59313164],\n",
       "       [ 1207.85215277],\n",
       "       [ 7448.79148744],\n",
       "       [12181.65978361],\n",
       "       [ 1443.28953774],\n",
       "       [ 6196.98647356],\n",
       "       [ 3660.69369687],\n",
       "       [ 1274.66686585],\n",
       "       [ 3651.6708593 ]])"
      ]
     },
     "execution_count": 30,
     "metadata": {},
     "output_type": "execute_result"
    }
   ],
   "source": [
    "clf.predict(x_test)"
   ]
  },
  {
   "cell_type": "code",
   "execution_count": 31,
   "id": "79803ffd",
   "metadata": {},
   "outputs": [
    {
     "data": {
      "text/plain": [
       "array([[ 630.40468714],\n",
       "       [ 734.99325403],\n",
       "       [ 912.20517713],\n",
       "       [ 871.38561491],\n",
       "       [ 769.89342007],\n",
       "       [ 777.1889816 ],\n",
       "       [ 691.44492557],\n",
       "       [ 695.8349873 ],\n",
       "       [ 695.41200497],\n",
       "       [ 803.31727175],\n",
       "       [1547.1582099 ],\n",
       "       [ 665.67010256],\n",
       "       [ 684.29899845],\n",
       "       [ 631.62297051],\n",
       "       [ 759.33771339],\n",
       "       [ 760.03286541],\n",
       "       [1319.40284386],\n",
       "       [ 701.60239262],\n",
       "       [ 611.48359175],\n",
       "       [ 712.8520731 ],\n",
       "       [ 767.77379552],\n",
       "       [ 792.25846352],\n",
       "       [ 686.49756399],\n",
       "       [ 787.78239145],\n",
       "       [ 644.28062839],\n",
       "       [1369.28883793],\n",
       "       [ 685.32876602],\n",
       "       [ 667.56704281],\n",
       "       [ 656.489383  ],\n",
       "       [ 724.59778578],\n",
       "       [2698.84365963],\n",
       "       [ 658.03992548],\n",
       "       [ 674.27584891],\n",
       "       [ 745.24026608],\n",
       "       [2874.30474223],\n",
       "       [ 764.63618565],\n",
       "       [ 657.17982213],\n",
       "       [ 643.02464186],\n",
       "       [ 665.01854482],\n",
       "       [ 912.22049404],\n",
       "       [ 701.01563718],\n",
       "       [ 648.28187628],\n",
       "       [ 674.77777223],\n",
       "       [4243.49501127],\n",
       "       [1773.27466669],\n",
       "       [2212.39630624],\n",
       "       [ 716.04623771],\n",
       "       [ 653.75119098],\n",
       "       [ 716.47864583],\n",
       "       [1054.05507048],\n",
       "       [1155.2986601 ],\n",
       "       [2263.72326797],\n",
       "       [ 964.25321181],\n",
       "       [ 752.2177072 ],\n",
       "       [1505.46794032],\n",
       "       [ 627.46501886],\n",
       "       [ 912.37366313],\n",
       "       [1329.36001287],\n",
       "       [ 868.97968199],\n",
       "       [ 771.80567724],\n",
       "       [ 687.84780842],\n",
       "       [ 621.82250526],\n",
       "       [1729.8689033 ],\n",
       "       [ 654.28728279],\n",
       "       [ 876.85021672],\n",
       "       [ 868.85950316],\n",
       "       [ 694.69093203],\n",
       "       [ 622.86169862],\n",
       "       [1486.79898481],\n",
       "       [ 961.76598145],\n",
       "       [ 795.48797485],\n",
       "       [ 831.13749121],\n",
       "       [ 658.83169184],\n",
       "       [ 662.58197808],\n",
       "       [ 626.05350679],\n",
       "       [ 727.73303921],\n",
       "       [1440.4017113 ],\n",
       "       [ 870.53965025],\n",
       "       [ 801.87041297],\n",
       "       [ 778.80196993],\n",
       "       [ 743.35746451],\n",
       "       [ 668.55203788],\n",
       "       [ 679.69567822],\n",
       "       [2407.78115265],\n",
       "       [ 612.07623831],\n",
       "       [ 609.49592827],\n",
       "       [ 659.96749955],\n",
       "       [ 670.43483945],\n",
       "       [ 741.80220914],\n",
       "       [ 648.7343142 ],\n",
       "       [1096.45934367],\n",
       "       [1518.49438223],\n",
       "       [1107.43096333],\n",
       "       [1105.98410456],\n",
       "       [ 784.10044219],\n",
       "       [1021.51724308],\n",
       "       [ 658.13300515],\n",
       "       [3152.37497579],\n",
       "       [1119.29921129],\n",
       "       [ 688.50054439],\n",
       "       [ 797.97873988],\n",
       "       [ 687.73587717],\n",
       "       [ 630.46831123],\n",
       "       [ 788.93705073],\n",
       "       [ 680.21174022],\n",
       "       [ 800.60382242],\n",
       "       [ 954.46688524],\n",
       "       [ 704.27106944],\n",
       "       [ 633.26423621],\n",
       "       [2036.85628265],\n",
       "       [ 717.93139573],\n",
       "       [ 685.54555919],\n",
       "       [ 726.95658975],\n",
       "       [1285.35217715],\n",
       "       [1332.19481924],\n",
       "       [ 665.41796267],\n",
       "       [ 632.78705559],\n",
       "       [1702.165328  ],\n",
       "       [ 660.19018384],\n",
       "       [ 682.10514581],\n",
       "       [1516.26753932],\n",
       "       [ 966.10891423],\n",
       "       [ 762.08768765],\n",
       "       [ 646.77846276],\n",
       "       [ 680.95873409],\n",
       "       [ 624.18602213],\n",
       "       [ 682.43976136],\n",
       "       [ 913.93952251],\n",
       "       [ 848.62468828],\n",
       "       [ 767.02208876],\n",
       "       [ 752.44274794],\n",
       "       [1200.14539115],\n",
       "       [7744.2758682 ],\n",
       "       [ 766.00528166],\n",
       "       [ 939.09106515],\n",
       "       [ 769.91698455],\n",
       "       [ 645.36695069],\n",
       "       [1042.74412237]])"
      ]
     },
     "execution_count": 31,
     "metadata": {},
     "output_type": "execute_result"
    }
   ],
   "source": [
    "clf.predict(y_test)"
   ]
  },
  {
   "cell_type": "code",
   "execution_count": 32,
   "id": "e90a83f5",
   "metadata": {},
   "outputs": [
    {
     "data": {
      "text/plain": [
       "0.20436927790675707"
      ]
     },
     "execution_count": 32,
     "metadata": {},
     "output_type": "execute_result"
    }
   ],
   "source": [
    "clf.score(x_test,y_test)"
   ]
  },
  {
   "cell_type": "code",
   "execution_count": null,
   "id": "9e934ea9",
   "metadata": {},
   "outputs": [],
   "source": []
  }
 ],
 "metadata": {
  "kernelspec": {
   "display_name": "Python 3 (ipykernel)",
   "language": "python",
   "name": "python3"
  },
  "language_info": {
   "codemirror_mode": {
    "name": "ipython",
    "version": 3
   },
   "file_extension": ".py",
   "mimetype": "text/x-python",
   "name": "python",
   "nbconvert_exporter": "python",
   "pygments_lexer": "ipython3",
   "version": "3.9.7"
  }
 },
 "nbformat": 4,
 "nbformat_minor": 5
}
